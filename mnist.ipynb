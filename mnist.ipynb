{
 "cells": [
  {
   "cell_type": "code",
   "execution_count": 1,
   "metadata": {},
   "outputs": [],
   "source": [
    "import numpy as np\n",
    "import pandas as pd\n",
    "import keras as kr"
   ]
  },
  {
   "cell_type": "code",
   "execution_count": 24,
   "metadata": {},
   "outputs": [],
   "source": [
    "df=kr.datasets.mnist.load_data()"
   ]
  },
  {
   "cell_type": "code",
   "execution_count": 38,
   "metadata": {},
   "outputs": [],
   "source": [
    "# df has tuple mode\n",
    "#dir(df)"
   ]
  },
  {
   "cell_type": "code",
   "execution_count": 35,
   "metadata": {},
   "outputs": [],
   "source": [
    "(x_train, y_train), (x_test, y_test) = kr.datasets.mnist.load_data()"
   ]
  },
  {
   "cell_type": "code",
   "execution_count": 9,
   "metadata": {},
   "outputs": [
    {
     "data": {
      "text/plain": [
       "((60000, 28, 28), (60000,))"
      ]
     },
     "execution_count": 9,
     "metadata": {},
     "output_type": "execute_result"
    }
   ],
   "source": [
    "x_train.shape,y_train.shape"
   ]
  },
  {
   "cell_type": "code",
   "execution_count": 10,
   "metadata": {},
   "outputs": [],
   "source": [
    "x_train = x_train.reshape(60000, 784)\n",
    "x_test = x_test.reshape(10000, 784)"
   ]
  },
  {
   "cell_type": "code",
   "execution_count": 12,
   "metadata": {},
   "outputs": [],
   "source": [
    "x_train=x_train.astype('float32')\n",
    "x_test=x_test.astype('float32')"
   ]
  },
  {
   "cell_type": "code",
   "execution_count": 13,
   "metadata": {},
   "outputs": [],
   "source": [
    "x_train /= 255\n",
    "x_test /= 255"
   ]
  },
  {
   "cell_type": "code",
   "execution_count": 16,
   "metadata": {},
   "outputs": [],
   "source": [
    "batch_size = 128\n",
    "epochs = 20\n",
    "num_classes = 10\n",
    "y_train = kr.utils.to_categorical(y_train, num_classes)\n",
    "y_test = kr.utils.to_categorical(y_test, num_classes)"
   ]
  },
  {
   "cell_type": "code",
   "execution_count": 17,
   "metadata": {},
   "outputs": [
    {
     "name": "stdout",
     "output_type": "stream",
     "text": [
      "Model: \"sequential\"\n",
      "_________________________________________________________________\n",
      "Layer (type)                 Output Shape              Param #   \n",
      "=================================================================\n",
      "dense (Dense)                (None, 512)               401920    \n",
      "_________________________________________________________________\n",
      "dense_1 (Dense)              (None, 512)               262656    \n",
      "_________________________________________________________________\n",
      "dense_2 (Dense)              (None, 10)                5130      \n",
      "=================================================================\n",
      "Total params: 669,706\n",
      "Trainable params: 669,706\n",
      "Non-trainable params: 0\n",
      "_________________________________________________________________\n"
     ]
    }
   ],
   "source": [
    "model = kr.models.Sequential()\n",
    "model.add(kr.layers.Dense(512, activation='sigmoid', input_shape=(784,)))\n",
    "model.add(kr.layers.Dense(512, activation='sigmoid'))\n",
    "model.add(kr.layers.Dense(num_classes, activation='softmax'))\n",
    "model.summary()"
   ]
  },
  {
   "cell_type": "code",
   "execution_count": 18,
   "metadata": {},
   "outputs": [],
   "source": [
    "model.compile(optimizer='adam', loss='categorical_crossentropy', metrics=['accuracy'])"
   ]
  },
  {
   "cell_type": "code",
   "execution_count": 19,
   "metadata": {},
   "outputs": [
    {
     "name": "stdout",
     "output_type": "stream",
     "text": [
      "Epoch 1/20\n",
      "469/469 [==============================] - 8s 16ms/step - loss: 0.4814 - accuracy: 0.8602\n",
      "Epoch 2/20\n",
      "469/469 [==============================] - 7s 16ms/step - loss: 0.2142 - accuracy: 0.9370\n",
      "Epoch 3/20\n",
      "469/469 [==============================] - 7s 16ms/step - loss: 0.1573 - accuracy: 0.9521\n",
      "Epoch 4/20\n",
      "469/469 [==============================] - 7s 16ms/step - loss: 0.1193 - accuracy: 0.9642\n",
      "Epoch 5/20\n",
      "469/469 [==============================] - 7s 16ms/step - loss: 0.0925 - accuracy: 0.9722\n",
      "Epoch 6/20\n",
      "469/469 [==============================] - 7s 16ms/step - loss: 0.0746 - accuracy: 0.9782\n",
      "Epoch 7/20\n",
      "469/469 [==============================] - 8s 16ms/step - loss: 0.0594 - accuracy: 0.9816\n",
      "Epoch 8/20\n",
      "469/469 [==============================] - 8s 16ms/step - loss: 0.0473 - accuracy: 0.9853\n",
      "Epoch 9/20\n",
      "469/469 [==============================] - 7s 16ms/step - loss: 0.0393 - accuracy: 0.9881\n",
      "Epoch 10/20\n",
      "469/469 [==============================] - 7s 16ms/step - loss: 0.0312 - accuracy: 0.9899\n",
      "Epoch 11/20\n",
      "469/469 [==============================] - 7s 16ms/step - loss: 0.0251 - accuracy: 0.9923\n",
      "Epoch 12/20\n",
      "469/469 [==============================] - 8s 16ms/step - loss: 0.0199 - accuracy: 0.9941\n",
      "Epoch 13/20\n",
      "469/469 [==============================] - 7s 16ms/step - loss: 0.0167 - accuracy: 0.9955\n",
      "Epoch 14/20\n",
      "469/469 [==============================] - 7s 16ms/step - loss: 0.0140 - accuracy: 0.9960\n",
      "Epoch 15/20\n",
      "469/469 [==============================] - 7s 16ms/step - loss: 0.0106 - accuracy: 0.9969\n",
      "Epoch 16/20\n",
      "469/469 [==============================] - 7s 16ms/step - loss: 0.0096 - accuracy: 0.9971\n",
      "Epoch 17/20\n",
      "469/469 [==============================] - 8s 16ms/step - loss: 0.0084 - accuracy: 0.9975\n",
      "Epoch 18/20\n",
      "469/469 [==============================] - 8s 16ms/step - loss: 0.0072 - accuracy: 0.9978 0s - loss: 0.0072 - accura\n",
      "Epoch 19/20\n",
      "469/469 [==============================] - 7s 16ms/step - loss: 0.0052 - accuracy: 0.9984\n",
      "Epoch 20/20\n",
      "469/469 [==============================] - 7s 16ms/step - loss: 0.0061 - accuracy: 0.9980\n"
     ]
    },
    {
     "data": {
      "text/plain": [
       "<tensorflow.python.keras.callbacks.History at 0x2a8d5dbbaf0>"
      ]
     },
     "execution_count": 19,
     "metadata": {},
     "output_type": "execute_result"
    }
   ],
   "source": [
    "model.fit(x_train, y_train, epochs=epochs, batch_size=batch_size, verbose=1)"
   ]
  },
  {
   "cell_type": "code",
   "execution_count": 20,
   "metadata": {},
   "outputs": [
    {
     "name": "stdout",
     "output_type": "stream",
     "text": [
      "313/313 [==============================] - 2s 6ms/step - loss: 0.0836 - accuracy: 0.9806\n"
     ]
    }
   ],
   "source": [
    "loss, accuracy = model.evaluate(x_test, y_test, verbose=1)"
   ]
  },
  {
   "cell_type": "code",
   "execution_count": 29,
   "metadata": {},
   "outputs": [],
   "source": []
  },
  {
   "cell_type": "code",
   "execution_count": null,
   "metadata": {},
   "outputs": [],
   "source": []
  },
  {
   "cell_type": "code",
   "execution_count": null,
   "metadata": {},
   "outputs": [],
   "source": []
  }
 ],
 "metadata": {
  "kernelspec": {
   "display_name": "Python 3",
   "language": "python",
   "name": "python3"
  },
  "language_info": {
   "codemirror_mode": {
    "name": "ipython",
    "version": 3
   },
   "file_extension": ".py",
   "mimetype": "text/x-python",
   "name": "python",
   "nbconvert_exporter": "python",
   "pygments_lexer": "ipython3",
   "version": "3.8.5"
  }
 },
 "nbformat": 4,
 "nbformat_minor": 4
}
